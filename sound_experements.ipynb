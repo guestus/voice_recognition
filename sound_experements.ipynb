{
  "cells": [
    {
      "cell_type": "markdown",
      "metadata": {
        "id": "view-in-github",
        "colab_type": "text"
      },
      "source": [
        "<a href=\"https://colab.research.google.com/github/guestus/voice_recognition/blob/main/sound_experements.ipynb\" target=\"_parent\"><img src=\"https://colab.research.google.com/assets/colab-badge.svg\" alt=\"Open In Colab\"/></a>"
      ]
    },
    {
      "cell_type": "markdown",
      "metadata": {
        "id": "YDxNBv6uqEIN"
      },
      "source": [
        "Поставим задачу обучать на классификацию возраста на 6 классов.\n",
        "\n",
        "- 0 - до 20 лет\n",
        "- 1 - от 20 до 30\n",
        "- 2 - от 30 до 40\n",
        "- 3 - от 40 до 50\n",
        "- 4 - от 50 до 60\n",
        "- 5 - старше 60 лет\n",
        "\n",
        "Учитывая что есть различия между мужским и женским голосом, то добавим классификацию по полу.\n",
        "- 0 - женщины до 20 лет\n",
        "- 1 - женщины от 20 до 30\n",
        "- 2 - женщины от 30 до 40\n",
        "- 3 - женщины от 40 до 50\n",
        "- 4 - женщины от 50 до 60\n",
        "- 5 - женщины старше 60 лет\n",
        "- 6 - мужчины до 20 лет\n",
        "- 7 - мужчины от 20 до 30\n",
        "- 8 - мужчины от 30 до 40\n",
        "- 9 - мужчины от 40 до 50\n",
        "- 10 - мужчины от 50 до 60\n",
        "- 11 - мужчины старше 60 лет\n",
        "\n",
        "\n",
        "Обучаться будем на части common-voice  взятой с kaggle\n",
        "\n",
        "https://kaggle.com/mozillaorg/common-voice\n",
        "\n",
        "\n",
        "Для ускорения работы мы сделаем предпроцессинг звуковых файлов преобразовав их в mel-спектрограммы и будем использовать дампы pickle подготовленные заранее.\n"
      ]
    },
    {
      "cell_type": "code",
      "source": [
        "# pep8 tests\n",
        "!pip install pycodestyle\n",
        "!pip install --index-url https://test.pypi.org/simple/ nbpep8"
      ],
      "metadata": {
        "colab": {
          "base_uri": "https://localhost:8080/"
        },
        "id": "QqKeIuR2tDCi",
        "outputId": "54ae7ab2-9445-405d-aa97-36bfe331dc11"
      },
      "execution_count": null,
      "outputs": [
        {
          "output_type": "stream",
          "name": "stdout",
          "text": [
            "Collecting pycodestyle\n",
            "  Downloading pycodestyle-2.8.0-py2.py3-none-any.whl (42 kB)\n",
            "\u001b[?25l\r\u001b[K     |███████▉                        | 10 kB 34.1 MB/s eta 0:00:01\r\u001b[K     |███████████████▋                | 20 kB 8.1 MB/s eta 0:00:01\r\u001b[K     |███████████████████████▍        | 30 kB 7.3 MB/s eta 0:00:01\r\u001b[K     |███████████████████████████████▏| 40 kB 7.1 MB/s eta 0:00:01\r\u001b[K     |████████████████████████████████| 42 kB 504 kB/s \n",
            "\u001b[?25hInstalling collected packages: pycodestyle\n",
            "Successfully installed pycodestyle-2.8.0\n",
            "Looking in indexes: https://test.pypi.org/simple/\n",
            "Collecting nbpep8\n",
            "  Downloading https://test-files.pythonhosted.org/packages/c1/07/6b91c986efe7c3adac9e2ec061037f0cc4307925819d37277c3802c2d117/nbpep8-0.0.15-py3-none-any.whl (3.2 kB)\n",
            "Installing collected packages: nbpep8\n",
            "Successfully installed nbpep8-0.0.15\n"
          ]
        }
      ]
    },
    {
      "cell_type": "code",
      "source": [
        "from nbpep8.nbpep8 import pep8"
      ],
      "metadata": {
        "id": "S6vOWLu9igmm"
      },
      "execution_count": null,
      "outputs": []
    },
    {
      "cell_type": "code",
      "execution_count": null,
      "metadata": {
        "id": "Q7oydrqcYfVx",
        "colab": {
          "base_uri": "https://localhost:8080/"
        },
        "outputId": "ba638869-39fb-4494-9e07-ad0cf96cc3d7"
      },
      "outputs": [
        {
          "output_type": "stream",
          "name": "stdout",
          "text": [
            "Wed Feb  2 17:57:34 2022       \n",
            "+-----------------------------------------------------------------------------+\n",
            "| NVIDIA-SMI 460.32.03    Driver Version: 460.32.03    CUDA Version: 11.2     |\n",
            "|-------------------------------+----------------------+----------------------+\n",
            "| GPU  Name        Persistence-M| Bus-Id        Disp.A | Volatile Uncorr. ECC |\n",
            "| Fan  Temp  Perf  Pwr:Usage/Cap|         Memory-Usage | GPU-Util  Compute M. |\n",
            "|                               |                      |               MIG M. |\n",
            "|===============================+======================+======================|\n",
            "|   0  Tesla P100-PCIE...  Off  | 00000000:00:04.0 Off |                    0 |\n",
            "| N/A   33C    P0    26W / 250W |      0MiB / 16280MiB |      0%      Default |\n",
            "|                               |                      |                  N/A |\n",
            "+-------------------------------+----------------------+----------------------+\n",
            "                                                                               \n",
            "+-----------------------------------------------------------------------------+\n",
            "| Processes:                                                                  |\n",
            "|  GPU   GI   CI        PID   Type   Process name                  GPU Memory |\n",
            "|        ID   ID                                                   Usage      |\n",
            "|=============================================================================|\n",
            "|  No running processes found                                                 |\n",
            "+-----------------------------------------------------------------------------+\n"
          ]
        }
      ],
      "source": [
        "!nvidia-smi"
      ]
    },
    {
      "cell_type": "code",
      "execution_count": null,
      "metadata": {
        "id": "qgR4wmookMOg"
      },
      "outputs": [],
      "source": [
        "import numpy as np\n",
        "import time\n",
        "import torch\n",
        "from torch.utils.data import Dataset\n",
        "from torch.utils.data import DataLoader\n",
        "import torch.nn as nn\n",
        "import torch.optim as optim\n",
        "import torchaudio\n",
        "from tqdm import tqdm\n",
        "import matplotlib.pyplot as plt\n",
        "import random\n",
        "from sklearn.metrics import confusion_matrix\n",
        "from sklearn.metrics import mean_absolute_error\n",
        "from torchsummary import summary\n",
        "import os\n",
        "import copy\n",
        "import pickle"
      ]
    },
    {
      "cell_type": "code",
      "source": [
        "torch.backends.cudnn.deterministic = True\n",
        "random.seed(hash(\"setting random seeds\") % 2**32 - 1)\n",
        "np.random.seed(hash(\"improves reproducibility\") % 2**32 - 1)\n",
        "torch.manual_seed(hash(\"by removing stochasticity\") % 2**32 - 1)\n",
        "torch.cuda.manual_seed_all(hash(\"so runs are repeatable\") % 2**32 - 1)"
      ],
      "metadata": {
        "id": "DOjpszGXDHEF"
      },
      "execution_count": null,
      "outputs": []
    },
    {
      "cell_type": "code",
      "execution_count": null,
      "metadata": {
        "id": "6kp87u3jJFNr"
      },
      "outputs": [],
      "source": [
        "%%capture\n",
        "!pip install wandb --upgrade"
      ]
    },
    {
      "cell_type": "code",
      "execution_count": null,
      "metadata": {
        "id": "_Hx-V3UQJSJ9",
        "colab": {
          "base_uri": "https://localhost:8080/",
          "height": 104
        },
        "outputId": "4e6f9d6c-cdae-4fb4-d3c4-1eadb176e70c"
      },
      "outputs": [
        {
          "output_type": "display_data",
          "data": {
            "application/javascript": [
              "\n",
              "        window._wandbApiKey = new Promise((resolve, reject) => {\n",
              "            function loadScript(url) {\n",
              "            return new Promise(function(resolve, reject) {\n",
              "                let newScript = document.createElement(\"script\");\n",
              "                newScript.onerror = reject;\n",
              "                newScript.onload = resolve;\n",
              "                document.body.appendChild(newScript);\n",
              "                newScript.src = url;\n",
              "            });\n",
              "            }\n",
              "            loadScript(\"https://cdn.jsdelivr.net/npm/postmate/build/postmate.min.js\").then(() => {\n",
              "            const iframe = document.createElement('iframe')\n",
              "            iframe.style.cssText = \"width:0;height:0;border:none\"\n",
              "            document.body.appendChild(iframe)\n",
              "            const handshake = new Postmate({\n",
              "                container: iframe,\n",
              "                url: 'https://wandb.ai/authorize'\n",
              "            });\n",
              "            const timeout = setTimeout(() => reject(\"Couldn't auto authenticate\"), 5000)\n",
              "            handshake.then(function(child) {\n",
              "                child.on('authorize', data => {\n",
              "                    clearTimeout(timeout)\n",
              "                    resolve(data)\n",
              "                });\n",
              "            });\n",
              "            })\n",
              "        });\n",
              "    "
            ],
            "text/plain": [
              "<IPython.core.display.Javascript object>"
            ]
          },
          "metadata": {}
        },
        {
          "output_type": "stream",
          "name": "stderr",
          "text": [
            "\u001b[34m\u001b[1mwandb\u001b[0m: You can find your API key in your browser here: https://wandb.ai/authorize\n"
          ]
        },
        {
          "name": "stdout",
          "output_type": "stream",
          "text": [
            "wandb: Paste an API key from your profile and hit enter, or press ctrl+c to quit: ··········\n"
          ]
        },
        {
          "output_type": "stream",
          "name": "stderr",
          "text": [
            "\u001b[34m\u001b[1mwandb\u001b[0m: Appending key for api.wandb.ai to your netrc file: /root/.netrc\n"
          ]
        },
        {
          "output_type": "execute_result",
          "data": {
            "text/plain": [
              "True"
            ]
          },
          "metadata": {},
          "execution_count": 7
        }
      ],
      "source": [
        "import wandb\n",
        "wandb.login()"
      ]
    },
    {
      "cell_type": "code",
      "execution_count": null,
      "metadata": {
        "id": "vDLIreMvOtNj"
      },
      "outputs": [],
      "source": [
        "batch_size = 256\n",
        "num_epochs = 30\n",
        "learning_rate = 1e-3\n",
        "dropout = 0.5\n",
        "loss_func = nn.SmoothL1Loss  # в дополнение к NLLLoss"
      ]
    },
    {
      "cell_type": "code",
      "source": [
        "device = torch.device(\"cuda:0\" if torch.cuda.is_available() else \"cpu\")\n",
        "os.environ['CUDA_LAUNCH_BLOCKING'] = \"1\""
      ],
      "metadata": {
        "id": "iDMVWSdBqvvO"
      },
      "execution_count": null,
      "outputs": []
    },
    {
      "cell_type": "markdown",
      "metadata": {
        "id": "k57Yz_ysUIUA"
      },
      "source": [
        "Datasets part"
      ]
    },
    {
      "cell_type": "code",
      "source": [
        "# Загрузка датасета с каггла. Необходим файл api kaggle.json\n",
        "! pip install -q kaggle\n",
        "! mkdir ~/.kaggle\n",
        "! cp /content/drive/MyDrive/kaggle.json ~/.kaggle/\n",
        "! chmod 600 ~/.kaggle/kaggle.json\n",
        "! kaggle datasets download -d mozillaorg/common-voice\n",
        "! mkdir ./cv\n",
        "! unzip -q ./common-voice.zip -d ./cv/\n",
        "! mkdir ./cv-composed\n",
        "! mkdir ./cv-composed/clips"
      ],
      "metadata": {
        "colab": {
          "base_uri": "https://localhost:8080/"
        },
        "id": "owWWLR-OAKxl",
        "outputId": "7ad4aecb-9180-4ccb-d8d0-1885705b6480"
      },
      "execution_count": null,
      "outputs": [
        {
          "output_type": "stream",
          "name": "stdout",
          "text": [
            "mkdir: cannot create directory ‘/root/.kaggle’: File exists\n",
            "Downloading common-voice.zip to /content\n",
            "100% 12.0G/12.0G [05:19<00:00, 26.6MB/s]\n",
            "100% 12.0G/12.0G [05:19<00:00, 40.5MB/s]\n"
          ]
        }
      ]
    },
    {
      "cell_type": "code",
      "source": [
        "# ! mkdir ./cv\n",
        "# ! unzip -q ./common-voice.zip -d ./cv/\n"
      ],
      "metadata": {
        "id": "8ZKexSOqBhXA"
      },
      "execution_count": null,
      "outputs": []
    },
    {
      "cell_type": "code",
      "source": [
        "# подготовка данных, выборка только голосов с возрастом и полом\n",
        "from shutil import copy\n",
        "from tqdm import tqdm\n",
        "import numpy as np\n",
        "import random\n",
        "import torchaudio\n",
        "\n",
        "with open('./cv-composed/train.tsv', 'w') as wf:\n",
        "    with open('./cv/cv-valid-train.csv', 'r') as f:\n",
        "        header = f.readline()\n",
        "        header = \"client_id\\tpath\\tsentence\\tup_votes\\tdown_votes\\tage\\t\" \\\n",
        "                  +\"gender\\taccent\\tlocale\\tsegment\"\n",
        "        wf.write(header)\n",
        "        for line in tqdm(f):\n",
        "            line_sp = line[:-1].split(',')\n",
        "            if line_sp[4] and line_sp[5] in ['male', 'female']:\n",
        "                filename = line_sp[0]\n",
        "                new_filename = 'train-' + filename.split('/')[1]\n",
        "                line_sp.insert(0, '-')\n",
        "                line_sp[1] = new_filename\n",
        "                # line_sp.append('')\n",
        "                new_line = '\\t'.join(line_sp) + '\\t\\n'\n",
        "                wf.write(new_line)\n",
        "                copy(\n",
        "                    './cv/cv-valid-train/' +\n",
        "                    filename,\n",
        "                    './cv-composed/clips/' +\n",
        "                    new_filename)\n",
        "with open('./cv-composed/val.tsv', 'w') as wf:\n",
        "    with open('./cv/cv-valid-dev.csv', 'r') as f:\n",
        "        header = f.readline()\n",
        "        header = \"client_id\\tpath\\tsentence\\tup_votes\\tdown_votes\\t\" \\\n",
        "                 +\"age\\tgender\\taccent\\tlocale\\tsegment\"\n",
        "        wf.write(header)\n",
        "        for line in tqdm(f):\n",
        "            line_sp = line[:-1].split(',')\n",
        "            # print(cur_spk)\n",
        "            if line_sp[4] and line_sp[5] in ['male', 'female']:\n",
        "                filename = line_sp[0]\n",
        "                new_filename = 'val-' + filename.split('/')[1]\n",
        "                line_sp.insert(0, '-')\n",
        "                line_sp[1] = new_filename\n",
        "                new_line = '\\t'.join(line_sp) + '\\t\\n'\n",
        "                wf.write(new_line)\n",
        "                copy(\n",
        "                    './cv/cv-valid-dev/' +\n",
        "                    filename,\n",
        "                    './cv-composed/clips/' +\n",
        "                    new_filename)\n",
        "\n",
        "with open('./cv-composed/test.tsv', 'w') as wf:\n",
        "    with open('./cv/cv-valid-test.csv', 'r') as f:\n",
        "        header = f.readline()\n",
        "        header = \"client_id\\tpath\\tsentence\\tup_votes\\tdown_votes\" \\\n",
        "                  +\"\\tage\\tgender\\taccent\\tlocale\\tsegment\"\n",
        "        wf.write(header)\n",
        "        for line in tqdm(f):\n",
        "            line_sp = line[:-1].split(',')\n",
        "            # print(cur_spk)\n",
        "            if line_sp[4] and line_sp[5] in ['male', 'female']:\n",
        "                filename = line_sp[0]\n",
        "                new_filename = 'test-' + filename.split('/')[1]\n",
        "                line_sp.insert(0, '-')\n",
        "                line_sp[1] = new_filename\n",
        "                new_line = '\\t'.join(line_sp) + '\\t\\n'\n",
        "                wf.write(new_line)\n",
        "                copy(\n",
        "                    './cv/cv-valid-test/' +\n",
        "                    filename,\n",
        "                    './cv-composed/clips/' +\n",
        "                    new_filename)\n",
        "\n",
        "\n",
        "pep8(_ih)                "
      ],
      "metadata": {
        "colab": {
          "base_uri": "https://localhost:8080/"
        },
        "id": "PwZSy-ga-g0l",
        "outputId": "fc9ec387-14f9-494e-8d19-c37b1a887b0a"
      },
      "execution_count": null,
      "outputs": [
        {
          "output_type": "stream",
          "name": "stderr",
          "text": [
            "195776it [00:27, 7123.73it/s] \n",
            "4076it [00:00, 6077.65it/s]\n",
            "3995it [00:00, 5850.50it/s]\n"
          ]
        }
      ]
    },
    {
      "cell_type": "code",
      "source": [
        "# преобразуем звуковые файлы в мел-спектрограммы\n",
        "import numpy as np\n",
        "import torch\n",
        "from torch.utils.data import Dataset\n",
        "from torch.utils.data import DataLoader\n",
        "import torch.nn as nn\n",
        "import torch.optim as optim\n",
        "import torchaudio\n",
        "from tqdm import tqdm\n",
        "import matplotlib.pyplot as plt\n",
        "import random\n",
        "from sklearn.metrics import confusion_matrix\n",
        "from sklearn.metrics import mean_absolute_error\n",
        "from torchsummary import summary\n",
        "import os\n",
        "import copy\n",
        "import pickle\n",
        "\n",
        "\n",
        "cv_train_ds = torchaudio.datasets.COMMONVOICE(\n",
        "    root='./cv-composed/', tsv='train.tsv')\n",
        "cv_val_ds = torchaudio.datasets.COMMONVOICE(\n",
        "    root='./cv-composed/', tsv='val.tsv')\n",
        "cv_test_ds = torchaudio.datasets.COMMONVOICE(\n",
        "    root='./cv-composed/', tsv='test.tsv')\n",
        "cv_ds = {'train': cv_train_ds, 'val': cv_val_ds, 'test': cv_test_ds}\n",
        "\n",
        "n_class = 6\n",
        "\n",
        "def age2class(age):\n",
        "    if age < 19:\n",
        "        lbl = 0\n",
        "    if 19 <= age < 30:\n",
        "        lbl = 1\n",
        "    if 30 <= age < 40:\n",
        "        lbl = 2\n",
        "    if 40 <= age < 50:\n",
        "        lbl = 3\n",
        "    if 50 <= age < 60:\n",
        "        lbl = 4\n",
        "    if age >= 60:\n",
        "        lbl = 5\n",
        "    return lbl\n",
        "\n",
        "\n",
        "cv_age2class = dict({'teens': 0,\n",
        "                     'twenties': 1,\n",
        "                     'thirties': 2,\n",
        "                     'fourties': 3,\n",
        "                     'fifties': 4,\n",
        "                     'sixties': 5,\n",
        "                     'seventies': 5,\n",
        "                     'eighties': 5,\n",
        "                     'nineties': 5})\n",
        "cv_ages_classes = [\n",
        "    'F<19',\n",
        "    'F-twenties',\n",
        "    'F-thirties',\n",
        "    'F-fourties',\n",
        "    'F-fifties',\n",
        "    'F >50',\n",
        "    'M<19',\n",
        "    'M-twenties',\n",
        "    'M-thirties',\n",
        "    'M-fourties',\n",
        "    'M-fifties',\n",
        "    'M >50']\n",
        "\n",
        "\n",
        "class SoundData():\n",
        "\n",
        "    def __init__(self, max_feature_width=256, features='mel'):\n",
        "        super(SoundData, self).__init__()\n",
        "        self.features_extractor = features\n",
        "        self.max_feature_width = max_feature_width\n",
        "\n",
        "        self.n_mels = 64\n",
        "        self.sr = 16000  # torchaudio.load(self.names['test'][0][0])\n",
        "        self.names = {'train': [],\n",
        "                      'val': [],\n",
        "                      'test': []}\n",
        "\n",
        "        self.getFeatures(mode=self.features_extractor)\n",
        "\n",
        "    def getFeatures(self, mode='mel'):\n",
        "        self.mel_transform = torchaudio.transforms.MelSpectrogram(\n",
        "            sample_rate=self.sr,  # 16000\n",
        "            n_fft=1024,  # 8129\n",
        "            win_length=1024,\n",
        "            hop_length=1000,\n",
        "            n_mels=self.n_mels,\n",
        "            power=1,\n",
        "            f_max=8192,\n",
        "            norm='slaney',\n",
        "            # onesided=True,\n",
        "            normalized=False,\n",
        "            mel_scale=\"slaney\"\n",
        "        )\n",
        "        self.mel_delta = torchaudio.transforms.ComputeDeltas()\n",
        "\n",
        "        self.mels = dict()\n",
        "        self.mels_length = dict()\n",
        "        self.labels = dict()\n",
        "        self.gender = dict()\n",
        "\n",
        "        for x in ['train', 'val', 'test']:\n",
        "            additional_dataset_len = len(cv_ds[x])\n",
        "            self.mels_length[x] = np.ndarray(\n",
        "                (additional_dataset_len + len(self.names[x])))\n",
        "            self.mels[x] = torch.zeros(\n",
        "                (additional_dataset_len + len(\n",
        "                    self.names[x]),\n",
        "                    3,\n",
        "                    self.n_mels,\n",
        "                    self.max_feature_width),\n",
        "                dtype=torch.float32)\n",
        "\n",
        "            self.labels[x] = []\n",
        "            self.gender[x] = []\n",
        "\n",
        "            delta_i = len(self.names['train'])\n",
        "            resample = torchaudio.transforms.Resample(\n",
        "                orig_freq=48000, new_freq=16000)\n",
        "            for i, data in enumerate(tqdm(cv_ds[x])):\n",
        "                # print(data)\n",
        "                wave = resample(data[0])\n",
        "                mel = torch.Tensor(self.mel_transform(wave))[0]\n",
        "                self.mels_length[x][i +\n",
        "                                    delta_i] = min(self.max_feature_width, mel.shape[1])\n",
        "                self.mels[x][i + delta_i][0] = torch.nn.functional.pad(\n",
        "                    mel[:, :self.max_feature_width], (0, max(0, self.max_feature_width - mel.shape[1]), 0, 0))\n",
        "                self.mels[x][i +\n",
        "                             delta_i][1] = self.mel_delta(self.mels[x][i +\n",
        "                                                                       delta_i][0])\n",
        "                self.mels[x][i +\n",
        "                             delta_i][2] = self.mel_delta(self.mels[x][i +\n",
        "                                                                       delta_i][1])\n",
        "\n",
        "                self.labels[x].append(cv_age2class[data[2]['age']])\n",
        "                self.gender[x].append(\n",
        "                    0 if data[2]['gender'] == 'female' else 1)\n",
        "\n",
        "\n",
        "sd = SoundData(max_feature_width=64, features='mel')\n",
        "\n",
        "\n",
        "torch.save(sd.mels, '/content/drive/MyDrive/mels2.pt')\n",
        "torch.save(sd.mels_length, '/content/drive/MyDrive/mels_length2.pt')\n",
        "with open('/content/drive/MyDrive/labels2.pickle', 'wb') as f:\n",
        "    pickle.dump(sd.labels, f)\n",
        "with open('/content/drive/MyDrive/gender2.pickle', 'wb') as f:\n",
        "    pickle.dump(sd.gender, f)\n",
        "\n",
        "pep8(_ih)    "
      ],
      "metadata": {
        "colab": {
          "base_uri": "https://localhost:8080/"
        },
        "id": "xxmp6AEeEcCs",
        "outputId": "86449303-7c87-4cfc-c6e1-754f0b4e9908"
      },
      "execution_count": null,
      "outputs": [
        {
          "output_type": "stream",
          "name": "stderr",
          "text": [
            "100%|██████████| 72691/72691 [11:02<00:00, 109.68it/s]\n",
            "100%|██████████| 1510/1510 [00:12<00:00, 117.28it/s]\n",
            "100%|██████████| 1522/1522 [00:13<00:00, 114.98it/s]\n"
          ]
        }
      ]
    },
    {
      "cell_type": "markdown",
      "source": [
        ""
      ],
      "metadata": {
        "id": "Pap3pVH9-gR5"
      }
    },
    {
      "cell_type": "code",
      "execution_count": null,
      "metadata": {
        "id": "X1wJKFCBvchH",
        "colab": {
          "base_uri": "https://localhost:8080/"
        },
        "outputId": "95aa71ed-6650-451e-c67d-f29573bf2894"
      },
      "outputs": [
        {
          "output_type": "stream",
          "name": "stdout",
          "text": [
            "\n"
          ]
        }
      ],
      "source": [
        "n_class = 6\n",
        "\n",
        "\n",
        "def age2class(age):\n",
        "    if age < 19:\n",
        "        lbl = 0\n",
        "    if 19 <= age < 30:\n",
        "        lbl = 1\n",
        "    if 30 <= age < 40:\n",
        "        lbl = 2\n",
        "    if 40 <= age < 50:\n",
        "        lbl = 3\n",
        "    if 50 <= age < 60:\n",
        "        lbl = 4\n",
        "    if age >= 60:\n",
        "        lbl = 5\n",
        "    return lbl\n",
        "\n",
        "\n",
        "cv_age2class = dict({'teens': 0,\n",
        "                     'twenties': 1,\n",
        "                     'thirties': 2,\n",
        "                     'fourties': 3,\n",
        "                     'fifties': 4,\n",
        "                     'sixties': 5,\n",
        "                     'seventies': 5,\n",
        "                     'eighties': 5,\n",
        "                     'nineties': 5})\n",
        "\n",
        "\n",
        "cv_ages_classes = ['F<19', 'F-twenties', 'F-thirties', 'F-fourties',\n",
        "                   'F-fifties', 'F >60', 'M<19', 'M-twenties', 'M-thirties',\n",
        "                   'M-fourties', 'M-fifties', 'M >60']\n",
        "pep8(_ih)"
      ]
    },
    {
      "cell_type": "markdown",
      "metadata": {
        "id": "w74qgYdMUE4Q"
      },
      "source": [
        ""
      ]
    },
    {
      "cell_type": "code",
      "execution_count": null,
      "metadata": {
        "id": "CdmAJD67ljq0",
        "colab": {
          "base_uri": "https://localhost:8080/"
        },
        "outputId": "5de49a6c-6c8d-4f8c-b6fd-c30d0144f71f"
      },
      "outputs": [
        {
          "output_type": "stream",
          "name": "stdout",
          "text": [
            "\n"
          ]
        }
      ],
      "source": [
        "mels = torch.load('/content/drive/MyDrive/mels2.pt')\n",
        "mels_length = torch.load('/content/drive/MyDrive/mels_length2.pt')\n",
        "with open('/content/drive/MyDrive/labels2.pickle', 'rb') as f:\n",
        "    labels = pickle.load(f)\n",
        "with open('/content/drive/MyDrive/gender2.pickle', 'rb') as f:\n",
        "    gender = pickle.load(f)\n",
        "mels_data = [mels, mels_length, labels, gender]\n",
        "\n",
        "\n",
        "pep8(_ih)"
      ]
    },
    {
      "cell_type": "code",
      "execution_count": null,
      "metadata": {
        "id": "wqGaoIHlmF9M",
        "colab": {
          "base_uri": "https://localhost:8080/"
        },
        "outputId": "2c8ba27d-d0d3-4ad3-8a19-9109143fd9b1"
      },
      "outputs": [
        {
          "output_type": "stream",
          "name": "stdout",
          "text": [
            "\n"
          ]
        }
      ],
      "source": [
        "class MelDataset(Dataset):\n",
        "    def __init__(self, mels_data, mode='train'):\n",
        "        self.md = mels_data\n",
        "        self.max_width = 64\n",
        "        self.mode = mode\n",
        "\n",
        "    def __len__(self):\n",
        "        return self.md[0][self.mode].shape[0]\n",
        "\n",
        "    def __getitem__(self, idx):\n",
        "        win = max(0, (int(self.md[1][self.mode][idx])-self.max_width) // 2)\n",
        "        if self.mode == 'train':\n",
        "            win = random.randint(0,\n",
        "                                 max(0, int(self.md[1]['train'][idx] -\n",
        "                                            self.max_width)))\n",
        "        gender = self.md[3][self.mode][idx]\n",
        "        age = self.md[2][self.mode][idx] + n_class * gender\n",
        "        mel = self.md[0][self.mode][idx][:, :, win:win + self.max_width]\n",
        "        return mel, age\n",
        "\n",
        "\n",
        "pep8(_ih)"
      ]
    },
    {
      "cell_type": "code",
      "execution_count": null,
      "metadata": {
        "id": "xyB96P6Xa26X",
        "colab": {
          "base_uri": "https://localhost:8080/"
        },
        "outputId": "8cfd184f-138f-4dd1-8992-1a45a420a220"
      },
      "outputs": [
        {
          "output_type": "stream",
          "name": "stdout",
          "text": [
            "cell_content.py:5:1: W293 blank line contains whitespace\n",
            "\n"
          ]
        }
      ],
      "source": [
        "dataloaders_dict = {x: DataLoader(MelDataset(mels_data, x),\n",
        "                                  batch_size=batch_size,\n",
        "                                  shuffle=(x == 'train'))\n",
        "                    for x in ['train', 'val', 'test']}\n",
        "\n",
        "\n",
        "pep8(_ih)"
      ]
    },
    {
      "cell_type": "code",
      "execution_count": null,
      "metadata": {
        "id": "-EFbNBkbvTsL",
        "colab": {
          "base_uri": "https://localhost:8080/"
        },
        "outputId": "c2cffbf7-86b6-43f4-9427-89981690d610"
      },
      "outputs": [
        {
          "output_type": "stream",
          "name": "stdout",
          "text": [
            "train -  72691\n",
            "val -  1510\n",
            "test -  1522\n"
          ]
        }
      ],
      "source": [
        "print(\"train - \", len(dataloaders_dict['train'].dataset))\n",
        "print(\"val - \", len(dataloaders_dict['val'].dataset))\n",
        "print(\"test - \", len(dataloaders_dict['test'].dataset))"
      ]
    },
    {
      "cell_type": "code",
      "execution_count": null,
      "metadata": {
        "id": "g9eFSWtcWFKx",
        "colab": {
          "base_uri": "https://localhost:8080/",
          "height": 606
        },
        "outputId": "07e8ec66-972a-4502-846c-3359afe77960"
      },
      "outputs": [
        {
          "output_type": "stream",
          "name": "stderr",
          "text": [
            "Clipping input data to the valid range for imshow with RGB data ([0..1] for floats or [0..255] for integers).\n"
          ]
        },
        {
          "output_type": "stream",
          "name": "stdout",
          "text": [
            "\n"
          ]
        },
        {
          "output_type": "display_data",
          "data": {
            "image/png": "[encoded data removed]",
            "text/plain": [
              "<Figure size 1440x2880 with 1 Axes>"
            ]
          },
          "metadata": {
            "needs_background": "light"
          }
        }
      ],
      "source": [
        "# Пример окна из набора Train\n",
        "item = random.randint(0, 100)\n",
        "plt.figure(figsize=(20, 40))\n",
        "for i in dataloaders_dict['train']:\n",
        "    plt.subplot(121)\n",
        "    plt.title(f'{i[1][item]}')\n",
        "    plt.imshow(i[0][item].swapaxes(0, 2))\n",
        "    break\n",
        "\n",
        "pep8(_ih)"
      ]
    },
    {
      "cell_type": "code",
      "execution_count": null,
      "metadata": {
        "id": "cWutNw6HKH8H",
        "colab": {
          "base_uri": "https://localhost:8080/"
        },
        "outputId": "eb4b384e-569f-4bb8-c352-bb993b070cee"
      },
      "outputs": [
        {
          "output_type": "stream",
          "name": "stdout",
          "text": [
            "Train, Кол-во по классам:  tensor([ 1060,  3954,  4560,  2187,  4467,  1870,  4249, 18494, 13662,  8684,\n",
            "         4946,  4558])\n",
            "Val, Кол-во по классам:  tensor([ 28,  87,  88,  59,  87,  41,  84, 389, 256, 180, 116,  95])\n",
            "\n"
          ]
        }
      ],
      "source": [
        "# Вычислим веса классов\n",
        "from sklearn.utils.multiclass import unique_labels\n",
        "\n",
        "age_classes = n_class * 2\n",
        "\n",
        "\n",
        "labels = torch.Tensor()\n",
        "for _, lbl in dataloaders_dict['train']:\n",
        "    labels = torch.cat((labels, lbl))\n",
        "labels = torch.bincount(labels.int())\n",
        "print(\"Train, Кол-во по классам: \", labels)\n",
        "weights_age = torch.zeros((age_classes), dtype=torch.float32)\n",
        "all = len(dataloaders_dict['train'].dataset)\n",
        "for i in range(labels.shape[0]):\n",
        "    weights_age[i] = (all/(labels.shape[0]*labels[i]))\n",
        "\n",
        "\n",
        "labels = torch.Tensor()\n",
        "for _, lbl in dataloaders_dict['val']:\n",
        "    labels = torch.cat((labels, lbl))\n",
        "labels = torch.bincount(labels.int())\n",
        "print(\"Val, Кол-во по классам: \", labels)\n",
        "weights_age_val = torch.zeros((age_classes), dtype=torch.float32)\n",
        "all = len(dataloaders_dict['train'].dataset)\n",
        "for i in range(labels.shape[0]):\n",
        "    weights_age_val[i] = (all/(labels.shape[0]*labels[i]))\n",
        "\n",
        "\n",
        "weights = weights_age\n",
        "\n",
        "\n",
        "pep8(_ih)"
      ]
    },
    {
      "cell_type": "code",
      "execution_count": null,
      "metadata": {
        "id": "vYtHAyaZ0ci0",
        "colab": {
          "base_uri": "https://localhost:8080/"
        },
        "outputId": "2a4289bf-d59c-4935-bf8d-8a4c609e184b"
      },
      "outputs": [
        {
          "output_type": "stream",
          "name": "stdout",
          "text": [
            "flb =  torch.Size([2, 384, 8, 8])\n",
            "ta =  torch.Size([2, 64, 8, 8])\n",
            "fa =  torch.Size([2, 64, 8, 8])\n",
            "sk =  torch.Size([2, 512, 8, 8])\n",
            "y =  torch.Size([2, 384, 1, 1])\n",
            "tensor([[-2.4657, -2.5418, -2.4913, -2.3996, -2.4526, -2.4147, -2.4966, -2.5466,\n",
            "         -2.5727, -2.4447, -2.4226, -2.5925],\n",
            "        [-2.4641, -2.5356, -2.4775, -2.3926, -2.4544, -2.4439, -2.4921, -2.5399,\n",
            "         -2.5737, -2.4471, -2.4350, -2.5820]], grad_fn=<LogSoftmaxBackward0>)\n",
            "\n"
          ]
        },
        {
          "output_type": "stream",
          "name": "stderr",
          "text": [
            "/usr/local/lib/python3.7/dist-packages/torch/nn/modules/conv.py:443: UserWarning: Using padding='same' with even kernel lengths and odd dilation may require a zero-padded copy of the input be created (Triggered internally at  ../aten/src/ATen/native/Convolution.cpp:647.)\n",
            "  self.padding, self.dilation, self.groups)\n"
          ]
        }
      ],
      "source": [
        "# Основная идея модели была взята из статьи\n",
        "# https://www.mdpi.com/1424-8220/21/17/5892/pdf\n",
        "from torch.nn.modules.batchnorm import BatchNorm1d\n",
        "\n",
        "\n",
        "class ModelSp(nn.Module):\n",
        "    def __init__(self, n_classes=6, dropout=0.25, hl=120):\n",
        "        super(ModelSp, self).__init__()\n",
        "        self.log_vars = nn.Parameter(torch.zeros((2))) # Для Loss\n",
        "        self.n_classes = n_classes\n",
        "        self.hl = hl\n",
        "        flb1 = [\n",
        "            nn.Conv2d(3, 120, kernel_size=9, stride=2, padding=4),\n",
        "            nn.ReLU(),\n",
        "            nn.BatchNorm2d(120),\n",
        "            nn.MaxPool2d(kernel_size=2, stride=2, padding=0),\n",
        "            nn.Conv2d(120, 256, kernel_size=5, stride=1, padding=\"same\"),\n",
        "            nn.ReLU(),\n",
        "            nn.MaxPool2d(kernel_size=2, stride=2, padding=0),\n",
        "            nn.Conv2d(256, 384, kernel_size=3, stride=1, padding=\"same\"),\n",
        "            nn.ReLU(),\n",
        "            nn.BatchNorm2d(384),\n",
        "        ]\n",
        "        flb2 = [\n",
        "            nn.Conv2d(512, 384, kernel_size=4, stride=2, padding=2),\n",
        "            nn.ReLU(),\n",
        "            nn.BatchNorm2d(384),\n",
        "            nn.MaxPool2d(kernel_size=2, stride=2, padding=0),\n",
        "            nn.Conv2d(384, 384, kernel_size=4, stride=1, padding=\"same\"),\n",
        "            nn.ReLU(),\n",
        "            nn.Conv2d(384, 384, kernel_size=2, stride=1, padding=0),\n",
        "            nn.ReLU(),\n",
        "            nn.BatchNorm2d(384),\n",
        "        ]\n",
        "        self.flb1 = nn.Sequential(*flb1)\n",
        "        self.flb2 = nn.Sequential(*flb2)\n",
        "        self.ta_layer = nn.Sequential(*[\n",
        "            nn.Conv2d(384, 64, kernel_size=(1, 9), stride=1, padding=\"same\"),\n",
        "            nn.ReLU(),\n",
        "            nn.Conv2d(64, 64, kernel_size=(1, 3), stride=1, padding=\"same\"),\n",
        "            nn.ReLU(),\n",
        "            nn.Conv2d(64, 64, kernel_size=(1, 3), stride=1, padding=\"same\"),\n",
        "            nn.ReLU(),\n",
        "            nn.BatchNorm2d(64),\n",
        "        ])\n",
        "        self.fa_layer = nn.Sequential(*[\n",
        "            nn.Conv2d(384, 64, kernel_size=(9, 1), stride=1, padding=\"same\"),\n",
        "            nn.ReLU(),\n",
        "            nn.Conv2d(64, 64, kernel_size=(3, 1), stride=1, padding=\"same\"),\n",
        "            nn.ReLU(),\n",
        "            nn.Conv2d(64, 64, kernel_size=(3, 1), stride=1, padding=\"same\"),\n",
        "            nn.ReLU(),\n",
        "            nn.BatchNorm2d(64),\n",
        "        ])\n",
        "        self.bn_layer = nn.BatchNorm2d(128)\n",
        "        self.fc_layer = nn.Sequential(*[\n",
        "            nn.Flatten(),\n",
        "            nn.Dropout(p=dropout),\n",
        "            nn.Linear(384, self.hl),\n",
        "            nn.ReLU(),\n",
        "            nn.Dropout(p=dropout),\n",
        "            nn.Linear(self.hl, n_classes * 2),\n",
        "            nn.LogSoftmax(dim=1)\n",
        "        ])\n",
        "\n",
        "    def forward(self, x, debug=False):\n",
        "        y = self.flb1(x)\n",
        "        if debug:\n",
        "            print('flb = ', y.shape)\n",
        "        ta = self.ta_layer(y)\n",
        "        if debug:\n",
        "            print('ta = ', ta.shape)\n",
        "        fa = self.fa_layer(y)\n",
        "        if debug:\n",
        "            print('fa = ', fa.shape)\n",
        "        con = self.bn_layer(torch.concat((ta, fa), dim=1))\n",
        "        sk = torch.concat((y, con), dim=1)\n",
        "        if debug:\n",
        "            print('sk = ', sk.shape)\n",
        "        y = self.flb2(sk)\n",
        "        if debug:\n",
        "            print('y = ', y.shape)\n",
        "        age_pred = self.fc_layer(y)\n",
        "        return age_pred\n",
        "\n",
        "\n",
        "m = ModelSp()\n",
        "i = torch.zeros((2, 3, 64, 64))\n",
        "y = m(i, debug=True)\n",
        "print(y)\n",
        "\n",
        "pep8(_ih)"
      ]
    },
    {
      "cell_type": "code",
      "execution_count": null,
      "metadata": {
        "id": "u3ZzjkrSYb3h",
        "colab": {
          "base_uri": "https://localhost:8080/"
        },
        "outputId": "83b5ac09-2d62-498f-f406-3846f8dc4eea"
      },
      "outputs": [
        {
          "output_type": "stream",
          "name": "stdout",
          "text": [
            "\n"
          ]
        }
      ],
      "source": [
        "# класс для Loss. Идея взята из \n",
        "# https://towardsdatascience.com/multi-task-learning-with-pytorch-and-fastai-6d10dc7ce855\n",
        "# Параметры log_vars вынесены в модель для работы оптимизации\n",
        "class MultiTaskLossWrapper(nn.Module):\n",
        "    def __init__(self, weights, model):\n",
        "        super(MultiTaskLossWrapper, self).__init__()\n",
        "        self.model = model\n",
        "        # self.log_vars = nn.Parameter(torch.zeros((task_num)))\n",
        "        self.criterion0 = nn.NLLLoss(weight=weights.to(device))\n",
        "        self.criterion1 = loss_func()\n",
        "\n",
        "    def forward(self, preds, age):\n",
        "        loss0 = self.criterion0(preds, age)\n",
        "\n",
        "        age_exp = torch.zeros_like(preds)\n",
        "        age_exp.scatter_(1,  age.unsqueeze(1), 1)\n",
        "        loss1 = self.criterion1(preds, torch.exp(age_exp))\n",
        "\n",
        "        precision0 = torch.exp(-self.model.log_vars[0])\n",
        "        loss0 = precision0*loss0 + self.model.log_vars[0]\n",
        "\n",
        "        precision1 = torch.exp(-self.model.log_vars[1])\n",
        "        loss1 = precision1*loss1 + self.model.log_vars[1]\n",
        "\n",
        "        return loss0+loss1\n",
        "\n",
        "\n",
        "pep8(_ih)"
      ]
    },
    {
      "cell_type": "code",
      "source": [
        "# helper functions\n",
        "def get_perfomance(labels, predicts, eps=1e-10):\n",
        "    cnf_matrix = confusion_matrix(labels, predicts)\n",
        "    fp = (cnf_matrix.sum(axis=0) - np.diag(cnf_matrix)).astype(float)\n",
        "    fn = (cnf_matrix.sum(axis=1) - np.diag(cnf_matrix)).astype(float)\n",
        "    tp = (np.diag(cnf_matrix)).astype(float)\n",
        "    tn = (cnf_matrix.sum() - (fp + fn + tp)).astype(float)\n",
        "\n",
        "    epoch_acc = (tp + tn)/(tp + tn + fp + fn + eps)\n",
        "    epoch_recall = tp/(tp + fn + eps)\n",
        "    epoch_prec = tp/(tp + fp + eps)\n",
        "    epoch_f1 = 2*tp/(2*tp + fp + fn + eps)\n",
        "\n",
        "    return epoch_acc, epoch_recall, epoch_prec, epoch_f1\n",
        "\n",
        "\n",
        "pep8(_ih)"
      ],
      "metadata": {
        "colab": {
          "base_uri": "https://localhost:8080/"
        },
        "id": "k9y95l09WHGm",
        "outputId": "c734a155-f15b-4ab9-e347-5e6302726f97"
      },
      "execution_count": null,
      "outputs": [
        {
          "output_type": "stream",
          "name": "stdout",
          "text": [
            "\n"
          ]
        }
      ]
    },
    {
      "cell_type": "code",
      "execution_count": null,
      "metadata": {
        "id": "TwunqNAAeFGP",
        "colab": {
          "base_uri": "https://localhost:8080/"
        },
        "outputId": "b94034aa-ba59-439e-b5eb-983acc1bfbfc"
      },
      "outputs": [
        {
          "output_type": "stream",
          "name": "stdout",
          "text": [
            "\n"
          ]
        }
      ],
      "source": [
        "# основа взята с pytorch'а, добавлено что нужно\n",
        "def train_model(model, dataloaders, criterion, optimizer, num_epochs=25,\n",
        "                clip=2, scheduler=None):\n",
        "    wandb.watch(model, criterion, log=\"all\", log_freq=1000)\n",
        "    since = time.time()\n",
        "    loss_trn_history = []\n",
        "    loss_val_history = []\n",
        "    val_acc_history = []\n",
        "    val_mae_history = []\n",
        "\n",
        "    best_model_wts = copy.deepcopy(model.state_dict())\n",
        "    best_acc = 0.0\n",
        "    best_mae = 100.0\n",
        "    hist_lbl = ['val_acc', 'val_mae', 'loss_trn', 'loss_val']\n",
        "\n",
        "    for epoch in range(num_epochs):\n",
        "        print('Epoch {}/{}'.format(epoch, num_epochs - 1))\n",
        "        print('-' * 10)\n",
        "\n",
        "        for phase in ['train', 'val']:\n",
        "            if phase == 'train':\n",
        "                model.train()  # Set model to training mode\n",
        "            else:\n",
        "                model.eval()   # Set model to evaluate mode\n",
        "            running_loss = 0.0\n",
        "            running_corrects = 0\n",
        "            epoch_preds = None\n",
        "            epoch_labels = None\n",
        "            for X, labels in dataloaders[phase]:\n",
        "                inputs = X.to(device)\n",
        "                labels = labels.to(device)\n",
        "\n",
        "                optimizer.zero_grad()\n",
        "                with torch.set_grad_enabled(phase == 'train'):\n",
        "                    outputs = model(inputs)\n",
        "                    loss = criterion(outputs, labels.long())\n",
        "                    preds_age = torch.max(outputs, 1)[1].detach()\n",
        "                    lbl_age = labels.detach()\n",
        "                    if epoch_preds is None:\n",
        "                        epoch_preds = preds_age\n",
        "                        epoch_labels = lbl_age\n",
        "                    else:\n",
        "                        epoch_preds = torch.cat((epoch_preds, preds_age))\n",
        "                        epoch_labels = torch.cat((epoch_labels, lbl_age))\n",
        "                    if phase == 'train':\n",
        "                        loss.backward()\n",
        "                        torch.nn.utils.clip_grad_norm_(model.parameters(),\n",
        "                                                       clip)\n",
        "                        optimizer.step()\n",
        "                running_loss += loss.item() * inputs.size(0)\n",
        "\n",
        "            epoch_loss = running_loss / len(dataloaders[phase].dataset)\n",
        "            running_corrects = torch.sum(epoch_preds == epoch_labels.data)\n",
        "\n",
        "            epoch_acc, epoch_recall, epoch_prec, epoch_f1 = get_perfomance(\n",
        "                epoch_labels.cpu(), epoch_preds.cpu())\n",
        "            print(\"epoch_f1= {:s}\".format(np.array2string(epoch_f1,\n",
        "                                          precision=2,\n",
        "                                          floatmode='fixed')))\n",
        "            epoch_acc = running_corrects.double()/len(\n",
        "                dataloaders[phase].dataset)\n",
        "            epoch_mae = mean_absolute_error(epoch_labels.cpu(),\n",
        "                                            epoch_preds.cpu())\n",
        "\n",
        "            print('{} Loss: {:.4f} Acc: {:.4f} MAE: {:.4f}'.format(\n",
        "                phase, epoch_loss, epoch_acc, epoch_mae))\n",
        "            wandb.log({phase: {\"loss\": epoch_loss,\n",
        "                               \"acc\": epoch_acc,\n",
        "                               \"mae\": epoch_mae,\n",
        "                               'f1': epoch_f1.mean()}})\n",
        "            if phase == 'val':\n",
        "                if epoch_acc > best_acc and epoch_mae < best_mae:\n",
        "                    best_acc = epoch_acc\n",
        "                    best_mae = epoch_mae\n",
        "                    best_model_wts = copy.deepcopy(model.state_dict())\n",
        "\n",
        "                wandb_cfnm = wandb.plot.confusion_matrix(\n",
        "                    probs=None,\n",
        "                    y_true=epoch_labels.cpu().detach().numpy(),\n",
        "                    preds=epoch_preds.cpu().detach().numpy(),\n",
        "                    class_names=cv_ages_classes)\n",
        "\n",
        "                wandb.log({\"conf_mat\": wandb_cfnm})\n",
        "                val_acc_history.append(epoch_acc)\n",
        "                val_mae_history.append(epoch_mae)\n",
        "                loss_val_history.append(epoch_loss)\n",
        "\n",
        "                wandb.log({\"epoch_f1\": wandb.Histogram(epoch_f1),\n",
        "                           \"epoch_recall\": wandb.Histogram(epoch_recall),\n",
        "                           \"epoch_prec\": wandb.Histogram(epoch_prec)})\n",
        "                if scheduler is not None:\n",
        "                    scheduler.step(epoch_loss)\n",
        "            else:\n",
        "                loss_trn_history.append(epoch_loss)\n",
        "                wandb.log({\"p1\": model.log_vars[0], \"p2\": model.log_vars[1]})\n",
        "        print()\n",
        "\n",
        "    time_elapsed = time.time() - since\n",
        "    print('Training complete in {:.0f}m {:.0f}s'.format(time_elapsed // 60,\n",
        "                                                        time_elapsed % 60))\n",
        "    print('Best val Acc: {:4f}'.format(best_acc))\n",
        "\n",
        "    # load best model weights\n",
        "    model.load_state_dict(best_model_wts)\n",
        "    return model, [val_acc_history,\n",
        "                   val_mae_history,\n",
        "                   loss_trn_history,\n",
        "                   loss_val_history]\n",
        "\n",
        "\n",
        "pep8(_ih)"
      ]
    },
    {
      "cell_type": "code",
      "execution_count": null,
      "metadata": {
        "id": "7aAsQqm7Keve",
        "colab": {
          "base_uri": "https://localhost:8080/",
          "height": 193,
          "referenced_widgets": [
            "e801bb0fef5d439698efc66d15141fc7",
            "1d9244edc1154f43ae23f2cdf2468899",
            "b2858896704f4bfbb16b3e70b9662d60",
            "7d1fd3af299947819d26b8c240dae533",
            "adada8a910684969a2e84c5d1ed27822",
            "d7052d077be14f36b46d29c8a9328dd7",
            "d9fa54a5778749fab7ef3d86453b7116",
            "7e1da24585ca45ff82fb77c9c3610371"
          ]
        },
        "outputId": "38d7eec8-4c59-4e43-fb91-f69a167b3afa"
      },
      "outputs": [
        {
          "output_type": "display_data",
          "data": {
            "text/html": [
              "Finishing last run (ID:2co24rko) before initializing another..."
            ],
            "text/plain": [
              "<IPython.core.display.HTML object>"
            ]
          },
          "metadata": {}
        },
        {
          "output_type": "display_data",
          "data": {
            "text/html": [
              "<br/>Waiting for W&B process to finish, PID 881... <strong style=\"color:green\">(success).</strong>"
            ],
            "text/plain": [
              "<IPython.core.display.HTML object>"
            ]
          },
          "metadata": {}
        },
        {
          "output_type": "display_data",
          "data": {
            "application/vnd.jupyter.widget-view+json": {
              "model_id": "e801bb0fef5d439698efc66d15141fc7",
              "version_minor": 0,
              "version_major": 2
            },
            "text/plain": [
              "VBox(children=(Label(value=' 0.00MB of 0.00MB uploaded (0.00MB deduped)\\r'), FloatProgress(value=1.0, max=1.0)…"
            ]
          },
          "metadata": {}
        },
        {
          "output_type": "display_data",
          "data": {
            "text/html": [
              "<style>\n",
              "    table.wandb td:nth-child(1) { padding: 0 10px; text-align: right }\n",
              "    .wandb-row { display: flex; flex-direction: row; flex-wrap: wrap; width: 100% }\n",
              "    .wandb-col { display: flex; flex-direction: column; flex-basis: 100%; flex: 1; padding: 10px; }\n",
              "    </style>\n",
              "<div class=\"wandb-row\"><div class=\"wandb-col\">\n",
              "</div><div class=\"wandb-col\">\n",
              "</div></div>\n",
              "Synced 5 W&B file(s), 0 media file(s), 0 artifact file(s) and 0 other file(s)\n",
              "<br/>Synced <strong style=\"color:#cdcd00\">celestial-morning-123</strong>: <a href=\"https://wandb.ai/guestus/test_audio/runs/2co24rko\" target=\"_blank\">https://wandb.ai/guestus/test_audio/runs/2co24rko</a><br/>\n",
              "Find logs at: <code>./wandb/run-20220202_182702-2co24rko/logs</code><br/>\n"
            ],
            "text/plain": [
              "<IPython.core.display.HTML object>"
            ]
          },
          "metadata": {}
        },
        {
          "output_type": "display_data",
          "data": {
            "text/html": [
              "Successfully finished last run (ID:2co24rko). Initializing new run:<br/>"
            ],
            "text/plain": [
              "<IPython.core.display.HTML object>"
            ]
          },
          "metadata": {}
        },
        {
          "output_type": "display_data",
          "data": {
            "text/html": [
              "\n",
              "                    Syncing run <strong><a href=\"https://wandb.ai/guestus/test_audio/runs/2aqhza92\" target=\"_blank\">true-spaceship-124</a></strong> to <a href=\"https://wandb.ai/guestus/test_audio\" target=\"_blank\">Weights & Biases</a> (<a href=\"https://docs.wandb.com/integrations/jupyter.html\" target=\"_blank\">docs</a>).<br/>\n",
              "\n",
              "                "
            ],
            "text/plain": [
              "<IPython.core.display.HTML object>"
            ]
          },
          "metadata": {}
        },
        {
          "output_type": "stream",
          "name": "stdout",
          "text": [
            "\n"
          ]
        }
      ],
      "source": [
        "config = {\n",
        "    \"learning_rate\": learning_rate,\n",
        "    \"epochs\": num_epochs,\n",
        "    \"batch_size\": batch_size,\n",
        "    \"dropout\": dropout,\n",
        "    \"loss_func\": loss_func.__name__,\n",
        "}\n",
        "wandb.init(project=\"test_audio\", entity=\"guestus\", config=config)\n",
        "\n",
        "\n",
        "pep8(_ih)"
      ]
    },
    {
      "cell_type": "code",
      "execution_count": null,
      "metadata": {
        "id": "QziEKNNG7bBs",
        "colab": {
          "base_uri": "https://localhost:8080/"
        },
        "outputId": "2d2aacca-896c-404a-d096-9147d2f6f350"
      },
      "outputs": [
        {
          "output_type": "stream",
          "name": "stdout",
          "text": [
            "\n"
          ]
        }
      ],
      "source": [
        "model_3 = ModelSp(n_classes=n_class, dropout=dropout)\n",
        "model_3 = model_3.to(device)\n",
        "\n",
        "\n",
        "pep8(_ih)"
      ]
    },
    {
      "cell_type": "code",
      "execution_count": null,
      "metadata": {
        "id": "8z3gIwZm7bB_",
        "colab": {
          "base_uri": "https://localhost:8080/"
        },
        "outputId": "d4f5b78a-93e4-4cda-ea9a-dec42e1e0067"
      },
      "outputs": [
        {
          "output_type": "stream",
          "name": "stdout",
          "text": [
            "\n"
          ]
        }
      ],
      "source": [
        "# инициализуруем веса для conv2d kaiming_uniform\n",
        "def weights_init(m):\n",
        "    if isinstance(m, nn.Conv2d):\n",
        "        torch.nn.init.kaiming_uniform_(m.weight,\n",
        "                                       mode='fan_in',\n",
        "                                       nonlinearity='relu')\n",
        "        m.bias.data.fill_(0)\n",
        "    if isinstance(m, nn.Linear):\n",
        "        torch.nn.init.xavier_uniform_(m.weight)\n",
        "        m.bias.data.fill_(0)\n",
        "\n",
        "\n",
        "model_3.apply(weights_init)\n",
        "\n",
        "\n",
        "pep8(_ih)"
      ]
    },
    {
      "cell_type": "code",
      "execution_count": null,
      "metadata": {
        "id": "w80lRRZ67bCA",
        "colab": {
          "base_uri": "https://localhost:8080/"
        },
        "outputId": "6f0d9763-e415-42e9-df72-2f4831b7b2e1"
      },
      "outputs": [
        {
          "output_type": "stream",
          "name": "stdout",
          "text": [
            "Epoch 0/29\n",
            "----------\n",
            "epoch_f1= [0.21 0.23 0.21 0.11 0.16 0.20 0.19 0.19 0.13 0.12 0.15 0.17]\n",
            "train Loss: 4.3596 Acc: 0.1697 MAE: 2.0451\n",
            "epoch_f1= [0.37 0.25 0.30 0.14 0.26 0.27 0.20 0.19 0.22 0.02 0.16 0.19]\n",
            "val Loss: 4.9027 Acc: 0.1987 MAE: 2.0272\n",
            "\n",
            "Epoch 1/29\n",
            "----------\n",
            "epoch_f1= [0.30 0.29 0.25 0.22 0.34 0.28 0.23 0.20 0.17 0.11 0.17 0.23]\n",
            "train Loss: 4.0536 Acc: 0.2132 MAE: 1.8332\n",
            "epoch_f1= [0.42 0.49 0.17 0.37 0.40 0.33 0.23 0.12 0.20 0.00 0.21 0.27]\n",
            "val Loss: 3.9443 Acc: 0.2344 MAE: 1.8007\n",
            "\n",
            "Epoch 2/29\n",
            "----------\n",
            "epoch_f1= [0.39 0.39 0.33 0.32 0.49 0.40 0.26 0.20 0.25 0.13 0.20 0.31]\n",
            "train Loss: 3.8945 Acc: 0.2741 MAE: 1.5924\n",
            "epoch_f1= [0.44 0.49 0.36 0.50 0.54 0.45 0.27 0.28 0.29 0.16 0.33 0.36]\n",
            "val Loss: 18.5919 Acc: 0.3384 MAE: 1.4675\n",
            "\n",
            "Epoch 3/29\n",
            "----------\n",
            "epoch_f1= [0.47 0.44 0.43 0.43 0.58 0.52 0.30 0.24 0.27 0.20 0.31 0.43]\n",
            "train Loss: 3.7818 Acc: 0.3344 MAE: 1.3645\n",
            "epoch_f1= [0.39 0.51 0.23 0.52 0.64 0.34 0.26 0.30 0.09 0.25 0.48 0.38]\n",
            "val Loss: 3.8714 Acc: 0.3358 MAE: 1.5623\n",
            "\n",
            "Epoch 4/29\n",
            "----------\n",
            "epoch_f1= [0.56 0.51 0.52 0.53 0.66 0.60 0.36 0.28 0.24 0.30 0.40 0.54]\n",
            "train Loss: 3.6768 Acc: 0.3938 MAE: 1.2043\n",
            "epoch_f1= [0.49 0.58 0.53 0.62 0.70 0.50 0.35 0.41 0.15 0.36 0.54 0.61]\n",
            "val Loss: 3.6593 Acc: 0.4417 MAE: 1.1623\n",
            "\n",
            "Epoch 5/29\n",
            "----------\n",
            "epoch_f1= [0.66 0.59 0.61 0.63 0.72 0.68 0.42 0.33 0.30 0.37 0.47 0.61]\n",
            "train Loss: 3.5735 Acc: 0.4552 MAE: 1.0521\n",
            "epoch_f1= [0.67 0.59 0.58 0.60 0.65 0.63 0.31 0.31 0.34 0.35 0.56 0.60]\n",
            "val Loss: 4.0336 Acc: 0.4417 MAE: 1.1285\n",
            "\n",
            "Epoch 6/29\n",
            "----------\n",
            "epoch_f1= [0.75 0.68 0.69 0.73 0.79 0.77 0.49 0.40 0.37 0.45 0.57 0.69]\n",
            "train Loss: 3.4526 Acc: 0.5304 MAE: 0.8732\n",
            "epoch_f1= [0.75 0.60 0.60 0.73 0.81 0.77 0.51 0.46 0.48 0.51 0.69 0.66]\n",
            "val Loss: 3.7950 Acc: 0.5689 MAE: 0.8185\n",
            "\n",
            "Epoch 7/29\n",
            "----------\n",
            "epoch_f1= [0.82 0.75 0.76 0.81 0.84 0.84 0.57 0.45 0.46 0.54 0.65 0.76]\n",
            "train Loss: 3.3167 Acc: 0.5995 MAE: 0.7268\n",
            "epoch_f1= [0.77 0.62 0.62 0.53 0.76 0.65 0.50 0.30 0.49 0.49 0.54 0.64]\n",
            "val Loss: 3.6385 Acc: 0.5179 MAE: 0.9762\n",
            "\n",
            "Epoch 8/29\n",
            "----------\n",
            "epoch_f1= [0.88 0.82 0.82 0.87 0.88 0.89 0.65 0.54 0.52 0.61 0.73 0.82]\n",
            "train Loss: 3.1648 Acc: 0.6673 MAE: 0.5848\n",
            "epoch_f1= [0.64 0.76 0.76 0.82 0.87 0.77 0.51 0.58 0.57 0.54 0.74 0.73]\n",
            "val Loss: 3.3882 Acc: 0.6430 MAE: 0.6815\n",
            "\n",
            "Epoch 9/29\n",
            "----------\n",
            "epoch_f1= [0.90 0.86 0.87 0.91 0.91 0.93 0.71 0.62 0.60 0.67 0.79 0.87]\n",
            "train Loss: 3.0169 Acc: 0.7291 MAE: 0.4729\n",
            "epoch_f1= [0.72 0.71 0.75 0.79 0.84 0.86 0.54 0.57 0.62 0.62 0.77 0.76]\n",
            "val Loss: 3.4567 Acc: 0.6675 MAE: 0.6510\n",
            "\n",
            "Epoch 10/29\n",
            "----------\n",
            "epoch_f1= [0.93 0.90 0.90 0.94 0.93 0.94 0.77 0.69 0.67 0.73 0.84 0.89]\n",
            "train Loss: 2.8547 Acc: 0.7795 MAE: 0.3791\n",
            "epoch_f1= [0.72 0.73 0.73 0.78 0.85 0.77 0.59 0.67 0.62 0.67 0.76 0.80]\n",
            "val Loss: 3.6258 Acc: 0.6947 MAE: 0.5927\n",
            "\n",
            "Epoch 11/29\n",
            "----------\n",
            "epoch_f1= [0.96 0.93 0.93 0.96 0.96 0.96 0.83 0.75 0.73 0.79 0.87 0.91]\n",
            "train Loss: 2.6899 Acc: 0.8257 MAE: 0.2951\n",
            "epoch_f1= [0.75 0.77 0.82 0.84 0.80 0.77 0.60 0.67 0.66 0.70 0.78 0.79]\n",
            "val Loss: 3.6856 Acc: 0.7152 MAE: 0.5781\n",
            "\n",
            "Epoch 12/29\n",
            "----------\n",
            "epoch_f1= [0.97 0.94 0.95 0.96 0.97 0.97 0.87 0.80 0.78 0.84 0.91 0.94]\n",
            "train Loss: 2.5229 Acc: 0.8607 MAE: 0.2364\n",
            "epoch_f1= [0.75 0.81 0.81 0.81 0.84 0.76 0.64 0.74 0.68 0.71 0.78 0.79]\n",
            "val Loss: 4.0389 Acc: 0.7450 MAE: 0.4960\n",
            "\n",
            "Epoch 13/29\n",
            "----------\n",
            "epoch_f1= [0.96 0.95 0.96 0.97 0.97 0.98 0.89 0.84 0.82 0.87 0.93 0.95]\n",
            "train Loss: 2.3747 Acc: 0.8882 MAE: 0.1884\n",
            "epoch_f1= [0.72 0.75 0.80 0.84 0.77 0.74 0.69 0.76 0.70 0.69 0.78 0.83]\n",
            "val Loss: 5.0062 Acc: 0.7450 MAE: 0.5172\n",
            "\n",
            "Epoch 14/29\n",
            "----------\n",
            "epoch_f1= [0.98 0.96 0.97 0.98 0.98 0.98 0.92 0.87 0.86 0.90 0.94 0.96]\n",
            "train Loss: 2.2061 Acc: 0.9119 MAE: 0.1476\n",
            "epoch_f1= [0.80 0.74 0.78 0.80 0.85 0.79 0.62 0.73 0.65 0.67 0.76 0.82]\n",
            "val Loss: 5.2171 Acc: 0.7232 MAE: 0.5470\n",
            "\n",
            "Epoch 15/29\n",
            "----------\n",
            "epoch_f1= [0.98 0.97 0.97 0.98 0.98 0.98 0.94 0.90 0.89 0.92 0.95 0.97]\n",
            "train Loss: 2.0477 Acc: 0.9294 MAE: 0.1184\n",
            "epoch_f1= [0.73 0.74 0.79 0.82 0.85 0.81 0.68 0.76 0.70 0.74 0.81 0.78]\n",
            "val Loss: 5.8038 Acc: 0.7583 MAE: 0.5291\n",
            "\n",
            "Epoch 16/29\n",
            "----------\n",
            "epoch_f1= [0.98 0.98 0.98 0.99 0.99 0.99 0.94 0.92 0.91 0.94 0.97 0.97]\n",
            "train Loss: 1.9119 Acc: 0.9418 MAE: 0.0982\n",
            "epoch_f1= [0.68 0.80 0.82 0.81 0.87 0.80 0.66 0.75 0.70 0.73 0.79 0.83]\n",
            "val Loss: 7.0779 Acc: 0.7589 MAE: 0.4662\n",
            "\n",
            "Epoch 17/29\n",
            "----------\n",
            "epoch_f1= [0.99 0.98 0.98 0.99 0.99 0.99 0.95 0.93 0.93 0.95 0.97 0.98]\n",
            "train Loss: 1.7864 Acc: 0.9523 MAE: 0.0819\n",
            "epoch_f1= [0.74 0.76 0.79 0.76 0.88 0.76 0.70 0.75 0.71 0.71 0.80 0.83]\n",
            "val Loss: 7.6258 Acc: 0.7550 MAE: 0.5066\n",
            "\n",
            "Epoch 18/29\n",
            "----------\n",
            "epoch_f1= [0.99 0.98 0.98 0.98 0.99 0.99 0.96 0.94 0.94 0.95 0.97 0.98]\n",
            "train Loss: 1.7182 Acc: 0.9581 MAE: 0.0724\n",
            "epoch_f1= [0.74 0.74 0.80 0.80 0.87 0.78 0.71 0.80 0.76 0.78 0.81 0.84]\n",
            "val Loss: 8.1194 Acc: 0.7881 MAE: 0.4583\n",
            "\n",
            "Epoch 19/29\n",
            "----------\n",
            "epoch_f1= [0.99 0.98 0.98 0.98 0.99 0.99 0.96 0.95 0.95 0.96 0.97 0.98]\n",
            "train Loss: 1.6446 Acc: 0.9625 MAE: 0.0671\n",
            "epoch_f1= [0.70 0.77 0.80 0.83 0.86 0.78 0.69 0.77 0.71 0.74 0.80 0.83]\n",
            "val Loss: 9.5893 Acc: 0.7656 MAE: 0.4861\n",
            "\n",
            "Epoch 20/29\n",
            "----------\n",
            "epoch_f1= [0.99 0.98 0.98 0.99 0.99 0.99 0.97 0.96 0.95 0.97 0.98 0.98]\n",
            "train Loss: 1.5428 Acc: 0.9681 MAE: 0.0577\n",
            "epoch_f1= [0.69 0.73 0.81 0.79 0.87 0.75 0.64 0.79 0.75 0.76 0.82 0.83]\n",
            "val Loss: 11.3144 Acc: 0.7768 MAE: 0.4490\n",
            "\n",
            "Epoch 21/29\n",
            "----------\n",
            "epoch_f1= [0.99 0.99 0.99 0.99 0.99 0.99 0.97 0.96 0.96 0.97 0.98 0.98]\n",
            "train Loss: 1.4603 Acc: 0.9711 MAE: 0.0521\n",
            "epoch_f1= [0.75 0.72 0.81 0.79 0.86 0.75 0.64 0.77 0.73 0.75 0.83 0.84]\n",
            "val Loss: 12.4095 Acc: 0.7669 MAE: 0.4669\n",
            "\n",
            "Epoch 22/29\n",
            "----------\n",
            "epoch_f1= [0.98 0.98 0.99 0.99 0.99 0.99 0.97 0.96 0.96 0.97 0.98 0.98]\n",
            "train Loss: 1.4441 Acc: 0.9721 MAE: 0.0508\n",
            "epoch_f1= [0.75 0.77 0.82 0.81 0.89 0.82 0.70 0.78 0.74 0.78 0.84 0.84]\n",
            "val Loss: 13.5481 Acc: 0.7887 MAE: 0.4272\n",
            "\n",
            "Epoch 23/29\n",
            "----------\n",
            "epoch_f1= [0.99 0.98 0.99 0.99 0.99 0.99 0.97 0.97 0.97 0.97 0.98 0.98]\n",
            "train Loss: 1.3552 Acc: 0.9749 MAE: 0.0477\n",
            "epoch_f1= [0.75 0.74 0.75 0.80 0.82 0.80 0.70 0.78 0.73 0.73 0.81 0.87]\n",
            "val Loss: 15.8978 Acc: 0.7669 MAE: 0.4768\n",
            "\n",
            "Epoch 24/29\n",
            "----------\n",
            "epoch_f1= [0.99 0.99 0.99 0.99 0.99 0.99 0.97 0.97 0.97 0.98 0.98 0.99]\n",
            "train Loss: 1.3100 Acc: 0.9771 MAE: 0.0415\n",
            "epoch_f1= [0.79 0.74 0.77 0.77 0.83 0.80 0.65 0.80 0.74 0.75 0.80 0.79]\n",
            "val Loss: 17.3030 Acc: 0.7695 MAE: 0.5139\n",
            "\n",
            "Epoch 25/29\n",
            "----------\n",
            "epoch_f1= [0.99 0.99 0.99 0.99 0.99 0.99 0.98 0.97 0.97 0.98 0.98 0.99]\n",
            "train Loss: 1.2008 Acc: 0.9791 MAE: 0.0386\n",
            "epoch_f1= [0.75 0.78 0.84 0.85 0.92 0.86 0.67 0.78 0.74 0.76 0.81 0.86]\n",
            "val Loss: 17.3740 Acc: 0.7887 MAE: 0.4152\n",
            "\n",
            "Epoch 26/29\n",
            "----------\n",
            "epoch_f1= [1.00 0.99 0.99 0.99 0.99 1.00 0.98 0.98 0.97 0.98 0.98 0.99]\n",
            "train Loss: 1.0908 Acc: 0.9816 MAE: 0.0334\n",
            "epoch_f1= [0.75 0.73 0.76 0.79 0.85 0.81 0.67 0.76 0.68 0.70 0.77 0.81]\n",
            "val Loss: 22.6185 Acc: 0.7457 MAE: 0.5166\n",
            "\n",
            "Epoch 27/29\n",
            "----------\n",
            "epoch_f1= [0.99 0.99 0.99 0.99 0.99 0.99 0.98 0.98 0.97 0.98 0.99 0.99]\n",
            "train Loss: 1.1651 Acc: 0.9820 MAE: 0.0336\n",
            "epoch_f1= [0.71 0.73 0.78 0.76 0.90 0.72 0.60 0.78 0.74 0.73 0.85 0.87]\n",
            "val Loss: 24.5409 Acc: 0.7669 MAE: 0.4536\n",
            "\n",
            "Epoch 28/29\n",
            "----------\n",
            "epoch_f1= [0.99 0.99 0.99 0.99 0.99 0.99 0.98 0.98 0.98 0.98 0.99 0.99]\n",
            "train Loss: 1.1067 Acc: 0.9822 MAE: 0.0328\n",
            "epoch_f1= [0.78 0.77 0.78 0.80 0.86 0.81 0.66 0.81 0.78 0.77 0.84 0.88]\n",
            "val Loss: 24.8848 Acc: 0.7987 MAE: 0.4225\n",
            "\n",
            "Epoch 29/29\n",
            "----------\n",
            "epoch_f1= [0.99 0.99 0.99 0.99 0.99 0.99 0.98 0.98 0.98 0.98 0.99 0.99]\n",
            "train Loss: 1.1366 Acc: 0.9827 MAE: 0.0317\n",
            "epoch_f1= [0.68 0.75 0.79 0.75 0.89 0.80 0.67 0.82 0.75 0.74 0.82 0.85]\n",
            "val Loss: 26.8928 Acc: 0.7828 MAE: 0.4490\n",
            "\n",
            "Training complete in 26m 36s\n",
            "Best val Acc: 0.798675\n",
            "cell_content.py:8:46: E251 unexpected spaces around keyword / parameter equals\n",
            "cell_content.py:9:44: E251 unexpected spaces around keyword / parameter equals\n",
            "\n"
          ]
        }
      ],
      "source": [
        "optimizer_mel = optim.Adam(model_3.parameters(), lr=learning_rate)\n",
        "scheduler_mel = None\n",
        "# scheduler_mel = optim.lr_scheduler.ReduceLROnPlateau(optimizer_mel,\n",
        "#                                                      patience=6,\n",
        "#                                                      min_lr=1e-5,\n",
        "#                                                      verbose=True)\n",
        "\n",
        "criterion_mel = MultiTaskLossWrapper(weights= weights,\n",
        "                                     model= model_3).to(device)\n",
        "model_mel_bestacc, hist_mel = train_model(model_3,\n",
        "                                          dataloaders_dict,\n",
        "                                          criterion_mel,\n",
        "                                          optimizer_mel,\n",
        "                                          num_epochs=num_epochs,\n",
        "                                          scheduler=scheduler_mel)\n",
        "\n",
        "\n",
        "pep8(_ih)"
      ]
    },
    {
      "cell_type": "code",
      "execution_count": null,
      "metadata": {
        "id": "2jv9SG6ZcQIU"
      },
      "outputs": [],
      "source": [
        "torch.save(model_3.state_dict(),\n",
        "           '/content/drive/MyDrive/voice/model-2.pth')\n",
        "torch.save(model_mel_bestacc.state_dict(),\n",
        "           '/content/drive/MyDrive/voice/model-best.pth')"
      ]
    },
    {
      "cell_type": "code",
      "execution_count": null,
      "metadata": {
        "id": "k7moekfwZl0U",
        "colab": {
          "base_uri": "https://localhost:8080/",
          "height": 934
        },
        "outputId": "7a47447b-f12f-437d-8dc1-5f85075bee4a"
      },
      "outputs": [
        {
          "output_type": "display_data",
          "data": {
            "image/png": "[encoded data removed]",
            "text/plain": [
              "<Figure size 1800x1152 with 4 Axes>"
            ]
          },
          "metadata": {
            "needs_background": "light"
          }
        }
      ],
      "source": [
        "hist_lbl = ['val_acc', 'val_mae', 'loss_trn', 'loss_val']\n",
        "\n",
        "plt.figure(figsize=(25, 16))\n",
        "for n, i in enumerate(hist_mel):\n",
        "    sp = plt.subplot(221 + n)\n",
        "    sp.title.set_text(hist_lbl[n])\n",
        "    plt.plot(i)\n",
        "plt.show()"
      ]
    },
    {
      "cell_type": "code",
      "execution_count": null,
      "metadata": {
        "id": "VabLo9O_qNgd",
        "colab": {
          "base_uri": "https://localhost:8080/"
        },
        "outputId": "b927c34a-b7ce-4368-fa55-14cbefaa2a7c"
      },
      "outputs": [
        {
          "output_type": "stream",
          "name": "stdout",
          "text": [
            "Test Acc: 0.771353\n",
            "cell_content.py:3:18: W291 trailing whitespace\n",
            "cell_content.py:6:19: E271 multiple spaces after keyword\n",
            "cell_content.py:6:46: W291 trailing whitespace\n",
            "\n"
          ]
        }
      ],
      "source": [
        "model_eval = model_mel_bestacc\n",
        "running_corrects = 0\n",
        "model_eval.eval()\n",
        "labels = torch.Tensor().to(device)\n",
        "predicts = torch.Tensor().to(device)\n",
        "for inputs,lbl in  dataloaders_dict['test']:\n",
        "    input = inputs.to(device)\n",
        "    lbl = lbl.to(device)\n",
        "    with torch.no_grad():\n",
        "        outputs = model_eval(input)\n",
        "    _, preds = torch.max(outputs, 1)\n",
        "    labels = torch.cat((labels, lbl))\n",
        "    predicts = torch.cat((predicts, preds))\n",
        "    running_corrects += torch.sum(preds == lbl.data)\n",
        "acc = running_corrects.double() / len(dataloaders_dict['test'].dataset)\n",
        "print('Test Acc: {:4f}'.format(acc))\n",
        "\n",
        "labels = labels.cpu().numpy()\n",
        "predicts = predicts.cpu().numpy()\n",
        "\n",
        "\n",
        "pep8(_ih)"
      ]
    },
    {
      "cell_type": "code",
      "execution_count": null,
      "metadata": {
        "id": "j4FEMIpc9pGz",
        "colab": {
          "base_uri": "https://localhost:8080/",
          "height": 279
        },
        "outputId": "7831ad72-7b52-47bc-b27e-fb3cba2c0d4a"
      },
      "outputs": [
        {
          "output_type": "display_data",
          "data": {
            "image/png": "[encoded data removed]",
            "text/plain": [
              "<Figure size 432x288 with 2 Axes>"
            ]
          },
          "metadata": {
            "needs_background": "light"
          }
        }
      ],
      "source": [
        "from sklearn.metrics import confusion_matrix\n",
        "import matplotlib.pyplot as plt\n",
        "from sklearn.metrics import ConfusionMatrixDisplay\n",
        "\n",
        "cfn_matrix = confusion_matrix(labels, predicts)\n",
        "disp = ConfusionMatrixDisplay(confusion_matrix=cfn_matrix) \n",
        "disp.plot()\n",
        "plt.show()"
      ]
    },
    {
      "cell_type": "code",
      "execution_count": null,
      "metadata": {
        "id": "0y-QvjsABKdF",
        "colab": {
          "base_uri": "https://localhost:8080/"
        },
        "outputId": "bc087b09-b93d-48fb-8e6a-3bf65ae7e8a1"
      },
      "outputs": [
        {
          "output_type": "execute_result",
          "data": {
            "text/plain": [
              "0.4165563"
            ]
          },
          "metadata": {},
          "execution_count": 28
        }
      ],
      "source": [
        "mean_absolute_error(labels, predicts)"
      ]
    },
    {
      "cell_type": "code",
      "source": [
        "test_acc, test_recall, test_prec, test_f1 = get_perfomance(\n",
        "    labels,\n",
        "    predicts)\n",
        "print(\"test_acc= {:s}\".format(np.array2string(test_acc,\n",
        "                              precision=2,\n",
        "                              floatmode='fixed')))\n",
        "print(\"test_recall= {:s}\".format(np.array2string(test_recall,\n",
        "                                 precision=2,\n",
        "                                 floatmode='fixed')))\n",
        "print(\"test_precision= {:s}\".format(np.array2string(test_prec,\n",
        "                                    precision=2,\n",
        "                                    floatmode='fixed')))\n",
        "print(\"test_f1= {:s}\".format(np.array2string(test_f1,\n",
        "                             precision=2,\n",
        "                             floatmode='fixed')))\n",
        "\n",
        "\n",
        "pep8(_ih)"
      ],
      "metadata": {
        "colab": {
          "base_uri": "https://localhost:8080/"
        },
        "id": "Y0z4eZYyvmV8",
        "outputId": "06428806-82ee-46b9-d1bd-e15872b880ed"
      },
      "execution_count": null,
      "outputs": [
        {
          "output_type": "stream",
          "name": "stdout",
          "text": [
            "test_acc= [0.99 0.97 0.97 0.98 0.98 0.99 0.97 0.89 0.90 0.94 0.97 0.99]\n",
            "test_recall= [0.56 0.67 0.92 0.85 0.81 0.75 0.62 0.79 0.75 0.79 0.70 0.90]\n",
            "test_precision= [0.95 0.74 0.73 0.69 0.89 0.88 0.75 0.77 0.73 0.75 0.85 0.84]\n",
            "test_f1= [0.70 0.71 0.81 0.76 0.85 0.81 0.68 0.78 0.74 0.77 0.77 0.87]\n",
            "\n"
          ]
        }
      ]
    },
    {
      "cell_type": "markdown",
      "source": [
        "Работа MultitaskLoss. Параметры оптимизируются в процессе обучения:\n",
        "\n",
        "\n",
        "![image.png](data:image/png;base64,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)"
      ],
      "metadata": {
        "id": "m1aeZC5v8Ufz"
      }
    },
    {
      "cell_type": "markdown",
      "source": [
        "F1-Score в процессе обучения:\n",
        "\n",
        "![image.png](data:image/png;base64,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)"
      ],
      "metadata": {
        "id": "VN7OTAVl9Xxf"
      }
    }
  ],
  "metadata": {
    "accelerator": "GPU",
    "colab": {
      "collapsed_sections": [],
      "machine_shape": "hm",
      "name": "sound_experements",
      "provenance": [],
      "mount_file_id": "1aPNy-_XzUd-vPKQOXizVghaF4Cr7Xe2y",
      "authorship_tag": "ABX9TyPkaOPFIk137NM0/jtVbsUB",
      "include_colab_link": true
    },
    "kernelspec": {
      "display_name": "Python 3",
      "name": "python3"
    },
    "language_info": {
      "name": "python"
    },
    "widgets": {
      "application/vnd.jupyter.widget-state+json": {
        "e801bb0fef5d439698efc66d15141fc7": {
          "model_module": "@jupyter-widgets/controls",
          "model_name": "VBoxModel",
          "model_module_version": "1.5.0",
          "state": {
            "_view_name": "VBoxView",
            "_dom_classes": [],
            "_model_name": "VBoxModel",
            "_view_module": "@jupyter-widgets/controls",
            "_model_module_version": "1.5.0",
            "_view_count": null,
            "_view_module_version": "1.5.0",
            "box_style": "",
            "layout": "IPY_MODEL_1d9244edc1154f43ae23f2cdf2468899",
            "_model_module": "@jupyter-widgets/controls",
            "children": [
              "IPY_MODEL_b2858896704f4bfbb16b3e70b9662d60",
              "IPY_MODEL_7d1fd3af299947819d26b8c240dae533"
            ]
          }
        },
        "1d9244edc1154f43ae23f2cdf2468899": {
          "model_module": "@jupyter-widgets/base",
          "model_name": "LayoutModel",
          "model_module_version": "1.2.0",
          "state": {
            "_view_name": "LayoutView",
            "grid_template_rows": null,
            "right": null,
            "justify_content": null,
            "_view_module": "@jupyter-widgets/base",
            "overflow": null,
            "_model_module_version": "1.2.0",
            "_view_count": null,
            "flex_flow": null,
            "width": null,
            "min_width": null,
            "border": null,
            "align_items": null,
            "bottom": null,
            "_model_module": "@jupyter-widgets/base",
            "top": null,
            "grid_column": null,
            "overflow_y": null,
            "overflow_x": null,
            "grid_auto_flow": null,
            "grid_area": null,
            "grid_template_columns": null,
            "flex": null,
            "_model_name": "LayoutModel",
            "justify_items": null,
            "grid_row": null,
            "max_height": null,
            "align_content": null,
            "visibility": null,
            "align_self": null,
            "height": null,
            "min_height": null,
            "padding": null,
            "grid_auto_rows": null,
            "grid_gap": null,
            "max_width": null,
            "order": null,
            "_view_module_version": "1.2.0",
            "grid_template_areas": null,
            "object_position": null,
            "object_fit": null,
            "grid_auto_columns": null,
            "margin": null,
            "display": null,
            "left": null
          }
        },
        "b2858896704f4bfbb16b3e70b9662d60": {
          "model_module": "@jupyter-widgets/controls",
          "model_name": "LabelModel",
          "model_module_version": "1.5.0",
          "state": {
            "_view_name": "LabelView",
            "style": "IPY_MODEL_adada8a910684969a2e84c5d1ed27822",
            "_dom_classes": [],
            "description": "",
            "_model_name": "LabelModel",
            "placeholder": "​",
            "_view_module": "@jupyter-widgets/controls",
            "_model_module_version": "1.5.0",
            "value": " 0.01MB of 0.01MB uploaded (0.00MB deduped)\r",
            "_view_count": null,
            "_view_module_version": "1.5.0",
            "description_tooltip": null,
            "_model_module": "@jupyter-widgets/controls",
            "layout": "IPY_MODEL_d7052d077be14f36b46d29c8a9328dd7"
          }
        },
        "7d1fd3af299947819d26b8c240dae533": {
          "model_module": "@jupyter-widgets/controls",
          "model_name": "FloatProgressModel",
          "model_module_version": "1.5.0",
          "state": {
            "_view_name": "ProgressView",
            "style": "IPY_MODEL_d9fa54a5778749fab7ef3d86453b7116",
            "_dom_classes": [],
            "description": "",
            "_model_name": "FloatProgressModel",
            "bar_style": "",
            "max": 1,
            "_view_module": "@jupyter-widgets/controls",
            "_model_module_version": "1.5.0",
            "value": 1,
            "_view_count": null,
            "_view_module_version": "1.5.0",
            "orientation": "horizontal",
            "min": 0,
            "description_tooltip": null,
            "_model_module": "@jupyter-widgets/controls",
            "layout": "IPY_MODEL_7e1da24585ca45ff82fb77c9c3610371"
          }
        },
        "adada8a910684969a2e84c5d1ed27822": {
          "model_module": "@jupyter-widgets/controls",
          "model_name": "DescriptionStyleModel",
          "model_module_version": "1.5.0",
          "state": {
            "_view_name": "StyleView",
            "_model_name": "DescriptionStyleModel",
            "description_width": "",
            "_view_module": "@jupyter-widgets/base",
            "_model_module_version": "1.5.0",
            "_view_count": null,
            "_view_module_version": "1.2.0",
            "_model_module": "@jupyter-widgets/controls"
          }
        },
        "d7052d077be14f36b46d29c8a9328dd7": {
          "model_module": "@jupyter-widgets/base",
          "model_name": "LayoutModel",
          "model_module_version": "1.2.0",
          "state": {
            "_view_name": "LayoutView",
            "grid_template_rows": null,
            "right": null,
            "justify_content": null,
            "_view_module": "@jupyter-widgets/base",
            "overflow": null,
            "_model_module_version": "1.2.0",
            "_view_count": null,
            "flex_flow": null,
            "width": null,
            "min_width": null,
            "border": null,
            "align_items": null,
            "bottom": null,
            "_model_module": "@jupyter-widgets/base",
            "top": null,
            "grid_column": null,
            "overflow_y": null,
            "overflow_x": null,
            "grid_auto_flow": null,
            "grid_area": null,
            "grid_template_columns": null,
            "flex": null,
            "_model_name": "LayoutModel",
            "justify_items": null,
            "grid_row": null,
            "max_height": null,
            "align_content": null,
            "visibility": null,
            "align_self": null,
            "height": null,
            "min_height": null,
            "padding": null,
            "grid_auto_rows": null,
            "grid_gap": null,
            "max_width": null,
            "order": null,
            "_view_module_version": "1.2.0",
            "grid_template_areas": null,
            "object_position": null,
            "object_fit": null,
            "grid_auto_columns": null,
            "margin": null,
            "display": null,
            "left": null
          }
        },
        "d9fa54a5778749fab7ef3d86453b7116": {
          "model_module": "@jupyter-widgets/controls",
          "model_name": "ProgressStyleModel",
          "model_module_version": "1.5.0",
          "state": {
            "_view_name": "StyleView",
            "_model_name": "ProgressStyleModel",
            "description_width": "",
            "_view_module": "@jupyter-widgets/base",
            "_model_module_version": "1.5.0",
            "_view_count": null,
            "_view_module_version": "1.2.0",
            "bar_color": null,
            "_model_module": "@jupyter-widgets/controls"
          }
        },
        "7e1da24585ca45ff82fb77c9c3610371": {
          "model_module": "@jupyter-widgets/base",
          "model_name": "LayoutModel",
          "model_module_version": "1.2.0",
          "state": {
            "_view_name": "LayoutView",
            "grid_template_rows": null,
            "right": null,
            "justify_content": null,
            "_view_module": "@jupyter-widgets/base",
            "overflow": null,
            "_model_module_version": "1.2.0",
            "_view_count": null,
            "flex_flow": null,
            "width": null,
            "min_width": null,
            "border": null,
            "align_items": null,
            "bottom": null,
            "_model_module": "@jupyter-widgets/base",
            "top": null,
            "grid_column": null,
            "overflow_y": null,
            "overflow_x": null,
            "grid_auto_flow": null,
            "grid_area": null,
            "grid_template_columns": null,
            "flex": null,
            "_model_name": "LayoutModel",
            "justify_items": null,
            "grid_row": null,
            "max_height": null,
            "align_content": null,
            "visibility": null,
            "align_self": null,
            "height": null,
            "min_height": null,
            "padding": null,
            "grid_auto_rows": null,
            "grid_gap": null,
            "max_width": null,
            "order": null,
            "_view_module_version": "1.2.0",
            "grid_template_areas": null,
            "object_position": null,
            "object_fit": null,
            "grid_auto_columns": null,
            "margin": null,
            "display": null,
            "left": null
          }
        }
      }
    }
  },
  "nbformat": 4,
  "nbformat_minor": 0
}